import bempp.api, numpy as np
from math import pi
import os
import time

from constants import values
from constants import mesh_info

from bempp.api.operators.potential import laplace as lp
from bempp.api.operators.boundary import sparse, laplace, modified_helmholtz

from Grid_Maker_R2  import *
from Mesh_Ref_V2    import *
from quadrature     import *
from Potential_Solver import *

global mol_name , mesh_density , suffix , path , q , x_q , phi_space , phi_order , u_space , u_order

mesh_info.mol_name     = 'methanol'
mesh_info.mesh_density = 2.0
mesh_info.suffix       = '-0'
mesh_info.path         = os.path.join('Molecule' , mesh_info.mol_name)

mesh_info.q , mesh_info.x_q = run_pqr(mesh_info.mol_name)

mesh_info.u_space , mesh_info.u_order     = 'P' , 1
mesh_info.phi_space , mesh_info.phi_order = 'DP' , 0


bempp.api.set_ipython_notebook_viewer()
bempp.api.PLOT_BACKEND = "ipython_notebook"

grid = Grid_loader( mesh_info.mol_name , mesh_info.mesh_density , mesh_info.suffix )

dirichl_space_u = bempp.api.function_space(grid,  mesh_info.u_space, mesh_info.u_order)
neumann_space_u = bempp.api.function_space(grid,  mesh_info.u_space, mesh_info.u_order) 
dual_to_dir_s_u = bempp.api.function_space(grid,  mesh_info.u_space, mesh_info.u_order)

u_s  = bempp.api.GridFunction(dirichl_space_u, fun=u_s_G )
du_s = bempp.api.GridFunction(neumann_space_u, fun=du_s_G)

u_h , du_h = harmonic_component(dirichl_space_u , neumann_space_u , dual_to_dir_s_u , u_s , du_s)
u_r , du_r = regular_component(dirichl_space_u , neumann_space_u , dual_to_dir_s_u , du_s , du_h)

S_trad = S_trad_calc( dirichl_space_u, neumann_space_u , u_h , du_h , u_r , du_r)


dirichl_space_phi = bempp.api.function_space(grid,  mesh_info.phi_space , mesh_info.phi_order)
neumann_space_phi = bempp.api.function_space(grid,  mesh_info.phi_space , mesh_info.phi_order) 
dual_to_dir_s_phi = bempp.api.function_space(grid,  mesh_info.phi_space , mesh_info.phi_order)

phi , dphi = adjoint_equation( dirichl_space_phi , neumann_space_phi , dual_to_dir_s_phi)

aux_path = '_'+str(mesh_info.mesh_density)+ mesh_info.suffix

face_array = text_to_list(mesh_info.mol_name , aux_path , '.face' , info_type=int  )
vert_array = text_to_list(mesh_info.mol_name , aux_path , '.vert' , info_type=float)

S_Cooper , S_Cooper_i = S_Cooper_calc( face_array , vert_array , phi , dphi , u_r+u_h , du_r+du_h , 79)
S_Zeb    , S_Zeb_i    = S_Zeb_calc( face_array , vert_array , phi , dphi , u_s , du_s , 79)

const_space = bempp.api.function_space(grid,  "DP", 0)

Solv_i_Cooper_Func = bempp.api.GridFunction(const_space, fun=None, coefficients=S_Cooper_i[:,0])
Solv_i_Zeb_Func    = bempp.api.GridFunction(const_space, fun=None, coefficients=S_Zeb_i[:,0])

dif =S_Cooper_i-S_Zeb_i

dif_F = bempp.api.GridFunction(const_space, fun=None, coefficients=np.abs(dif[:,0] ) )
dif_F.plot()    

new_face_array , new_vert_array = funcion(face_array , vert_array , dif , 0.95 )

vert_and_face_arrays_to_text_and_mesh('methanol' , new_vert_array ,
                                      new_face_array.astype(int)[:] , '-1' , dens=2.0 , Self_build=True)

bempp.api.set_ipython_notebook_viewer()
bempp.api.PLOT_BACKEND = "ipython_notebook"

grid = Grid_loader( 'methanol' , 2.0 , '-1' )
print('New mesh:')
grid.plot()
